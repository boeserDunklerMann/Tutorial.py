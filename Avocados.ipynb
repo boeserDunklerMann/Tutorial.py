{
 "cells": [
  {
   "cell_type": "code",
   "execution_count": null,
   "id": "af9a0a55-7852-4b95-b210-a57fcf80840d",
   "metadata": {},
   "outputs": [],
   "source": [
    "import pandas as pd\n",
    "df = pd.read_csv(\"avocado.csv\")\n",
    "df = df.copy()[df['type']=='conventional']\n",
    "\n",
    "df[\"Date\"] = pd.to_datetime(df[\"Date\"])\n",
    "\n",
    "df.sort_values(by=\"Date\", ascending=True, inplace=True)\n",
    "# df.head()\n",
    "\n",
    "# albany_df = df.copy()[df[\"region\"]==\"Albany\"]\n",
    "# albany_df.set_index(\"Date\", inplace=True)\n",
    "# albany_df.sort_index(inplace=True)\n",
    "\n",
    "# albany_df[\"price25ma\"] = albany_df[\"AveragePrice\"].rolling(25).mean()\n",
    "#albany_df[\"price25ma\"].plot()\n",
    "#albany_df.tail(20)\n",
    "\n",
    "# get all regions\n",
    "#print(set(df[\"region\"].values.tolist()))\n",
    "#df[\"region\"].unique()\n",
    "\n",
    "graph_df = pd.DataFrame()\n",
    "for region in df[\"region\"].unique():\n",
    "    region_df = df.copy()[df[\"region\"]==region]\n",
    "    region_df.set_index(\"Date\", inplace=True)\n",
    "    region_df.sort_index(inplace=True)\n",
    "    region_df[f\"{region}_price25ma\"] = region_df[\"AveragePrice\"].rolling(25).mean()\n",
    "    if graph_df.empty:\n",
    "        graph_df = region_df[[f\"{region}_price25ma\"]]    # note double square brackets\n",
    "    else:\n",
    "        graph_df = graph_df.join(region_df[f\"{region}_price25ma\"])\n",
    "\n",
    "#graph_df.tail()\n",
    "graph_df.plot(figsize=(8, 5), legend=False)"
   ]
  },
  {
   "cell_type": "code",
   "execution_count": null,
   "id": "acd64624-569a-4a25-acc9-9542b4759d64",
   "metadata": {},
   "outputs": [],
   "source": []
  }
 ],
 "metadata": {
  "kernelspec": {
   "display_name": "Python 3",
   "language": "python",
   "name": "python3"
  },
  "language_info": {
   "codemirror_mode": {
    "name": "ipython",
    "version": 3
   },
   "file_extension": ".py",
   "mimetype": "text/x-python",
   "name": "python",
   "nbconvert_exporter": "python",
   "pygments_lexer": "ipython3",
   "version": "3.13.2"
  }
 },
 "nbformat": 4,
 "nbformat_minor": 5
}
