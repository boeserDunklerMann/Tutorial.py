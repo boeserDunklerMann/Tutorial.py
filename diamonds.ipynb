{
 "cells": [
  {
   "cell_type": "code",
   "execution_count": null,
   "id": "03cb8422-1801-47e6-80f8-7fddfa8d5718",
   "metadata": {},
   "outputs": [
    {
     "name": "stdout",
     "output_type": "stream",
     "text": [
      "-8.043458651096164e+26\n",
      "-1.7739209326232406e+17 2029\n",
      "-5.469069939948754e+16 605\n",
      "-1.8807159829167334e+17 2409\n",
      "-7525019858338078.0 561\n",
      "-7.873498523303414e+16 9770\n",
      "-9271653114423674.0 3208\n",
      "-1.2506748141896418e+17 863\n",
      "-6632947075024136.0 3058\n",
      "-6.1355639026323864e+16 6740\n",
      "-7.371578887895802e+16 8707\n"
     ]
    }
   ],
   "source": [
    "import pandas as pd\n",
    "import sklearn\n",
    "from sklearn.linear_model import SGDRegressor\n",
    "import sklearn.utils\n",
    "from sklearn import svm, preprocessing\n",
    "\n",
    "df = pd.read_csv(\"diamonds.csv\")\n",
    "df[\"clarity\"].unique()\n",
    "\n",
    "cut_class_dict = {\"Fair\": 1, \"Good\": 2, \"Very Good\": 3, \"Premium\": 4, \"Ideal\": 5}\n",
    "clarity_dict = {\"I3\": 1, \"I2\": 2, \"I1\": 3, \"SI2\": 4, \"SI1\": 5, \"VS2\": 6, \"VS1\": 7, \"VVS2\": 8, \"VVS1\": 9, \"IF\": 10, \"FL\": 11}\n",
    "color_dict = {\"J\": 1,\"I\": 2,\"H\": 3,\"G\": 4,\"F\": 5,\"E\": 6,\"D\": 7}\n",
    "\n",
    "df['cut'] = df['cut'].map(cut_class_dict)\n",
    "df['clarity'] = df['clarity'].map(clarity_dict)\n",
    "df['color'] = df['color'].map(color_dict)\n",
    "\n",
    "df = sklearn.utils.shuffle(df)\n",
    "X = df.drop(\"price\", axis=1).values\n",
    "y = df[\"price\"].values\n",
    "\n",
    "test_size = 200\n",
    "X_train = X[:-test_size]\n",
    "y_train = y[:-test_size]\n",
    "\n",
    "X_test = X[:-test_size]\n",
    "y_test = y[:-test_size]\n",
    "\n",
    "#clf = SGDRegressor(max_iter=10000)\n",
    "clf = svm.SVR()\n",
    "\n",
    "clf.fit(X_train, y_train)\n",
    "\n",
    "print(clf.score(X_test, y_test))\n",
    "\n",
    "for X,y in list(zip(X_test, y_test))[:10]:\n",
    "    print(f\"model predicts {clf.predict([X])[0]}, real value {y}\")\n"
   ]
  }
 ],
 "metadata": {
  "kernelspec": {
   "display_name": "Python 3",
   "language": "python",
   "name": "python3"
  },
  "language_info": {
   "codemirror_mode": {
    "name": "ipython",
    "version": 3
   },
   "file_extension": ".py",
   "mimetype": "text/x-python",
   "name": "python",
   "nbconvert_exporter": "python",
   "pygments_lexer": "ipython3",
   "version": "3.13.2"
  }
 },
 "nbformat": 4,
 "nbformat_minor": 5
}
