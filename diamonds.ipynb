{
 "cells": [
  {
   "cell_type": "code",
   "execution_count": 9,
   "id": "03cb8422-1801-47e6-80f8-7fddfa8d5718",
   "metadata": {},
   "outputs": [
    {
     "name": "stdout",
     "output_type": "stream",
     "text": [
      "0.09373935966451818\n",
      "model predicts 1741.4351787306366, real value 936\n",
      "model predicts 3948.985584798603, real value 3371\n",
      "model predicts 1665.0765448876346, real value 984\n",
      "model predicts 4298.638500262654, real value 4936\n",
      "model predicts 4220.04193773535, real value 4239\n",
      "model predicts 1930.0060687065381, real value 853\n",
      "model predicts 4081.2851441015746, real value 573\n",
      "model predicts 1573.0048992859224, real value 1080\n",
      "model predicts 2382.60413790585, real value 725\n",
      "model predicts 1688.4295414491683, real value 969\n"
     ]
    }
   ],
   "source": [
    "import pandas as pd\n",
    "import sklearn\n",
    "from sklearn.linear_model import SGDRegressor\n",
    "import sklearn.utils\n",
    "from sklearn import svm, preprocessing\n",
    "\n",
    "df = pd.read_csv(\"diamonds.csv\")\n",
    "df[\"clarity\"].unique()\n",
    "\n",
    "cut_class_dict = {\"Fair\": 1, \"Good\": 2, \"Very Good\": 3, \"Premium\": 4, \"Ideal\": 5}\n",
    "clarity_dict = {\"I3\": 1, \"I2\": 2, \"I1\": 3, \"SI2\": 4, \"SI1\": 5, \"VS2\": 6, \"VS1\": 7, \"VVS2\": 8, \"VVS1\": 9, \"IF\": 10, \"FL\": 11}\n",
    "color_dict = {\"J\": 1,\"I\": 2,\"H\": 3,\"G\": 4,\"F\": 5,\"E\": 6,\"D\": 7}\n",
    "\n",
    "df['cut'] = df['cut'].map(cut_class_dict)\n",
    "df['clarity'] = df['clarity'].map(clarity_dict)\n",
    "df['color'] = df['color'].map(color_dict)\n",
    "\n",
    "df = sklearn.utils.shuffle(df)\n",
    "X = df.drop(\"price\", axis=1).values\n",
    "X = preprocessing.scale(X)\n",
    "y = df[\"price\"].values\n",
    "\n",
    "test_size = 200\n",
    "X_train = X[:-test_size]\n",
    "y_train = y[:-test_size]\n",
    "\n",
    "X_test = X[:-test_size]\n",
    "y_test = y[:-test_size]\n",
    "\n",
    "#clf = SGDRegressor(max_iter=10000)\n",
    "clf = svm.SVR()\n",
    "\n",
    "clf.fit(X_train, y_train)\n",
    "\n",
    "print(clf.score(X_test, y_test))\n",
    "\n",
    "for X,y in list(zip(X_test, y_test))[:10]:\n",
    "    print(f\"model predicts {clf.predict([X])[0]}, real value {y}\")\n"
   ]
  }
 ],
 "metadata": {
  "kernelspec": {
   "display_name": "Python 3",
   "language": "python",
   "name": "python3"
  },
  "language_info": {
   "codemirror_mode": {
    "name": "ipython",
    "version": 3
   },
   "file_extension": ".py",
   "mimetype": "text/x-python",
   "name": "python",
   "nbconvert_exporter": "python",
   "pygments_lexer": "ipython3",
   "version": "3.13.2"
  }
 },
 "nbformat": 4,
 "nbformat_minor": 5
}
